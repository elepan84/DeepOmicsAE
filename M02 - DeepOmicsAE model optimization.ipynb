{
 "cells": [
  {
   "cell_type": "code",
   "execution_count": null,
   "id": "f3d46374",
   "metadata": {},
   "outputs": [],
   "source": [
    "import tensorflow as tf\n",
    "from tensorflow import keras\n",
    "from tensorflow.keras import layers\n",
    "import pandas as pd\n",
    "import numpy as np\n",
    "import matplotlib.pyplot as plt\n",
    "from sklearn.impute import SimpleImputer\n",
    "from sklearn.preprocessing import MinMaxScaler\n",
    "from sklearn.metrics import silhouette_score\n",
    "import seaborn as sns\n",
    "from sklearn.manifold import TSNE\n",
    "from sklearn.decomposition import PCA\n",
    "from sklearn.model_selection import train_test_split\n",
    "from tensorflow.keras import layers, losses\n",
    "from sklearn.feature_selection import SelectKBest, f_classif\n",
    "import random\n",
    "import warnings\n",
    "from sklearn.preprocessing import LabelEncoder\n",
    "from sklearn.model_selection import StratifiedKFold\n",
    "import xgboost as xgb\n",
    "from sklearn.model_selection import GridSearchCV\n",
    "from collections import Counter\n",
    "from sklearn.metrics import classification_report\n",
    "from sklearn.metrics import accuracy_score\n",
    "from sklearn.metrics import confusion_matrix\n",
    "import csv\n",
    "import pandas as pd\n",
    "import matplotlib.pyplot as plt\n",
    "import seaborn as sns\n",
    "#from F02_autoencoder_model_optimization_final import * \n",
    "from F02_autoencoder_model_optimization_final_new import * \n",
    "RANDOM_STATE = 55 ## We will pass it to every sklearn call so we ensure reproducibility\n"
   ]
  },
  {
   "cell_type": "code",
   "execution_count": null,
   "id": "38d9fed1",
   "metadata": {},
   "outputs": [],
   "source": [
    "# Load the datasets using pandas\n",
    "df = pd.read_csv(\"M01_output_data.csv\")\n"
   ]
  },
  {
   "cell_type": "code",
   "execution_count": null,
   "id": "609d7639",
   "metadata": {},
   "outputs": [],
   "source": [
    "df.shape"
   ]
  },
  {
   "cell_type": "code",
   "execution_count": null,
   "id": "6b12fc50",
   "metadata": {},
   "outputs": [],
   "source": [
    "df.iloc[:, :]"
   ]
  },
  {
   "cell_type": "code",
   "execution_count": null,
   "id": "4846210f",
   "metadata": {},
   "outputs": [],
   "source": [
    "cols_X_prot = slice(col_start, col_end)\n",
    "cols_X_met = slice(col_start2, col_end2)\n",
    "cols_clin = slice(col_start3, col_end3)\n",
    "cols_X_expr = slice(col_start4, col_end4)\n",
    "y_label = 'y_column_name' \n",
    "n_all_feat = cols_X_met.stop\n",
    "n_all_feat"
   ]
  },
  {
   "cell_type": "code",
   "execution_count": null,
   "id": "fb5ce79c",
   "metadata": {},
   "outputs": [],
   "source": [
    "df_res, df_selected = model_optimization(df=df, n_all_feat=n_all_feat, cols_X_prot=cols_X_prot, cols_X_met=cols_X_met, cols_clin=cols_clin, cols_X_expr=cols_X_expr, y_label=y_label, n_comb=30)\n"
   ]
  },
  {
   "cell_type": "code",
   "execution_count": null,
   "id": "147e0742",
   "metadata": {},
   "outputs": [],
   "source": [
    "df_res_sort = df_res.sort_values(by='pca_extracted', ascending=False)"
   ]
  },
  {
   "cell_type": "code",
   "execution_count": null,
   "id": "f03d0cac",
   "metadata": {},
   "outputs": [],
   "source": [
    "df_res_sort.head(20)"
   ]
  },
  {
   "cell_type": "code",
   "execution_count": null,
   "id": "f5e020a7",
   "metadata": {},
   "outputs": [],
   "source": [
    "# Convert 'latent' to numeric values and multiply by a factor for better visibility on the scatter plot\n",
    "df_res_sort['latent'] = pd.to_numeric(df_res_sort['latent'], errors='coerce')\n",
    "\n",
    "# Create a scatter plot\n",
    "plt.figure(figsize=(10, 8))\n",
    "bubble_plot = plt.scatter(df_res_sort['kprot'], df_res_sort['kmet'], alpha=0.6,\n",
    "                          s=df_res_sort['latent']*20,  # modify this factor to adjust the bubble sizes\n",
    "                          c=df_res_sort['pca_extracted'],  # color based on 'pca_extracted' values\n",
    "                          cmap='RdYlBu',  # choose a colormap\n",
    "                          edgecolors='grey')  # adding grey border to the bubbles\n",
    "\n",
    "# Add a color bar\n",
    "cbar = plt.colorbar(bubble_plot)\n",
    "cbar.set_label('pca_extracted')\n",
    "\n",
    "plt.xlabel('kprot')\n",
    "plt.ylabel('kmet')\n",
    "plt.title('Bubble Plot')\n",
    "plt.savefig('AE_optimization_plot.pdf', format='pdf', dpi=300)\n",
    "plt.show()\n",
    "\n"
   ]
  },
  {
   "cell_type": "code",
   "execution_count": null,
   "id": "04147c0b",
   "metadata": {},
   "outputs": [],
   "source": [
    "# Calculate percentiles\n",
    "percentiles = df_res_sort['pca_extracted'].quantile([0, 0.1, 0.5, 0.95, 1]).to_dict()\n",
    "\n",
    "# Print percentiles\n",
    "for key, value in percentiles.items():\n",
    "    print(f'{key*100}th percentile: {value}')\n"
   ]
  },
  {
   "cell_type": "code",
   "execution_count": null,
   "id": "dcdd00ae",
   "metadata": {},
   "outputs": [],
   "source": [
    "# Filter DataFrame where 'pca_extracted' > 0.3\n",
    "filtered_df = df_res_sort[df_res_sort['pca_extracted'] > 0.152]\n",
    "\n"
   ]
  },
  {
   "cell_type": "code",
   "execution_count": null,
   "id": "30b67a16",
   "metadata": {},
   "outputs": [],
   "source": [
    "filtered_df"
   ]
  },
  {
   "cell_type": "code",
   "execution_count": null,
   "id": "e0899b7c",
   "metadata": {},
   "outputs": [],
   "source": [
    "kprot = round(filtered_df['kprot'].mean())\n",
    "kmet = round(filtered_df['kmet'].mean())\n",
    "latent = round(filtered_df['latent'].mean())\n",
    "\n",
    "%store kprot kmet latent\n",
    "\n",
    "print(f\"Average kprot value when pca_extracted > 0.313: {kprot}\")\n",
    "print(f\"Average kmet value when pca_extracted > 0.313: {kmet}\")\n",
    "print(f\"Average latent value when pca_extracted > 0.313: {latent}\")"
   ]
  }
 ],
 "metadata": {
  "kernelspec": {
   "display_name": "tensorflow_xgboost_env",
   "language": "python",
   "name": "tensorflow_xgboost_env"
  },
  "language_info": {
   "codemirror_mode": {
    "name": "ipython",
    "version": 3
   },
   "file_extension": ".py",
   "mimetype": "text/x-python",
   "name": "python",
   "nbconvert_exporter": "python",
   "pygments_lexer": "ipython3",
   "version": "3.10.11"
  }
 },
 "nbformat": 4,
 "nbformat_minor": 5
}
