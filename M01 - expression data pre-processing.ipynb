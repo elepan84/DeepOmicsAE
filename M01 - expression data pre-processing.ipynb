{
 "cells": [
  {
   "cell_type": "code",
   "execution_count": null,
   "id": "7e447a1e",
   "metadata": {},
   "outputs": [],
   "source": [
    "import numpy as np\n",
    "import pandas as pd\n",
    "from sklearn.tree import DecisionTreeClassifier\n",
    "from sklearn.ensemble import RandomForestClassifier\n",
    "from sklearn.model_selection import train_test_split\n",
    "from sklearn.metrics import accuracy_score\n",
    "import matplotlib.pyplot as plt\n",
    "from sklearn.preprocessing import MinMaxScaler\n",
    "from sklearn.metrics import silhouette_score\n",
    "from sklearn.decomposition import PCA\n",
    "from sklearn.covariance import EmpiricalCovariance\n",
    "from scipy.spatial import distance\n",
    "import seaborn as sns\n",
    "import warnings\n",
    "warnings.filterwarnings('ignore')\n",
    "from F01_data_preprocessing_function import data_preprocessing"
   ]
  },
  {
   "cell_type": "code",
   "execution_count": null,
   "id": "59ff3c0a",
   "metadata": {},
   "outputs": [],
   "source": [
    "# Load the dataset using pandas\n",
    "df = pd.read_csv(\"your_dataset_name.csv\")"
   ]
  },
  {
   "cell_type": "code",
   "execution_count": null,
   "id": "ff827b67",
   "metadata": {},
   "outputs": [],
   "source": [
    "print(df.shape)"
   ]
  },
  {
   "cell_type": "code",
   "execution_count": null,
   "id": "a4546219",
   "metadata": {},
   "outputs": [],
   "source": [
    "df.iloc[:, :]"
   ]
  },
  {
   "cell_type": "code",
   "execution_count": null,
   "id": "4fcb5604",
   "metadata": {},
   "outputs": [],
   "source": [
    "### df should have features across the columns and samples across the rows\n",
    "### (features include protein abundances, metabolite abundances, and clinical features)\n",
    "### df should have protein expression values expressed as log2 ratios (no change = 0)\n",
    "### df should have metabolite expression values expressed as ratios, non log2 normalized (no change = 1)\n",
    "### there should be no missing values in your target variable column (patient diagnosis)\n",
    "\n",
    "## define slice objects that can be used to slice the dataframe within the function\n",
    "cols_prot = slice(col_start, col_end)\n",
    "cols_met = slice(col_start2, col_end2)\n",
    "cols_clin_con = slice(col_start3, col_end3)\n",
    "cols_clin_bin = slice(col_start4, col_end4)"
   ]
  },
  {
   "cell_type": "code",
   "execution_count": null,
   "id": "0d3d3d68",
   "metadata": {},
   "outputs": [],
   "source": []
  },
  {
   "cell_type": "code",
   "execution_count": null,
   "id": "03f91f70",
   "metadata": {},
   "outputs": [],
   "source": [
    "#### the input dataframe in my case should only contain prot, met and clinical features +\n",
    "#### the age column should already have \"91\" instead of \"90+\""
   ]
  },
  {
   "cell_type": "code",
   "execution_count": null,
   "id": "af109c12",
   "metadata": {},
   "outputs": [],
   "source": [
    "result_df = data_preprocessing(df, cols_prot, cols_met, cols_clin_bin, cols_clin_con)"
   ]
  },
  {
   "cell_type": "code",
   "execution_count": null,
   "id": "9cdd293f",
   "metadata": {},
   "outputs": [],
   "source": [
    "print(result_df.shape)"
   ]
  },
  {
   "cell_type": "code",
   "execution_count": null,
   "id": "3084c068",
   "metadata": {},
   "outputs": [],
   "source": [
    "result_df.head()"
   ]
  },
  {
   "cell_type": "code",
   "execution_count": null,
   "id": "feddf4be",
   "metadata": {},
   "outputs": [],
   "source": [
    "result_df.to_csv('M01_output_data', index=False)"
   ]
  },
  {
   "cell_type": "code",
   "execution_count": null,
   "id": "8079ea0e",
   "metadata": {},
   "outputs": [],
   "source": []
  }
 ],
 "metadata": {
  "kernelspec": {
   "display_name": "tensorflow_xgboost_env",
   "language": "python",
   "name": "tensorflow_xgboost_env"
  },
  "language_info": {
   "codemirror_mode": {
    "name": "ipython",
    "version": 3
   },
   "file_extension": ".py",
   "mimetype": "text/x-python",
   "name": "python",
   "nbconvert_exporter": "python",
   "pygments_lexer": "ipython3",
   "version": "3.10.11"
  }
 },
 "nbformat": 4,
 "nbformat_minor": 5
}
